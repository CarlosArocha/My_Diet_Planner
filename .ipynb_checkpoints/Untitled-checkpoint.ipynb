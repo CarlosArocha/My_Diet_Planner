{
 "cells": [
  {
   "cell_type": "code",
   "execution_count": 5,
   "id": "739f52c8",
   "metadata": {},
   "outputs": [
    {
     "data": {
      "text/plain": [
       "['FAO-INFOODS',\n",
       " 'OpenProductData-Licensed',\n",
       " 'FSA',\n",
       " 'Others',\n",
       " 'CoFID UK Gov',\n",
       " 'EFSA-EuropeanFoodSafetyAuthority',\n",
       " 'OpenFoodFacts',\n",
       " 'archive_food.com',\n",
       " 'USDA']"
      ]
     },
     "execution_count": 5,
     "metadata": {},
     "output_type": "execute_result"
    }
   ],
   "source": [
    "import os\n",
    "data_filepath = '/Volumes/OutSSD/DATA/FOOD/'\n",
    "folders = [dir for dir in os.listdir(data_filepath) if not dir.startswith('.')]\n",
    "folders"
   ]
  },
  {
   "cell_type": "code",
   "execution_count": 61,
   "id": "f3c7dd40",
   "metadata": {},
   "outputs": [
    {
     "name": "stdout",
     "output_type": "stream",
     "text": [
      "SQL: 1 ['/Volumes/OutSSD/DATA/FOOD/OpenProductData-Licensed/pod_web_2014.01.01_01.sql']\n",
      "XLSX: 17 ['/Volumes/OutSSD/DATA/FOOD/FAO-INFOODS/WAFCT_FoodCompositionTableforWesternAfrica_2019_.xlsx', '/Volumes/OutSSD/DATA/FOOD/FAO-INFOODS/density_DB_v2_0_final-1__1_.xlsx', '/Volumes/OutSSD/DATA/FOOD/FAO-INFOODS/BioFoodComp4.0_FoodCompositionDatabaseforBiodiversity.xlsx', '/Volumes/OutSSD/DATA/FOOD/FAO-INFOODS/AnFooD2.0_AnalyticalFoodCompositionDatabase.xlsx', '/Volumes/OutSSD/DATA/FOOD/FAO-INFOODS/Globalsupplementdatabase_DB_FINAL_FOR_FAO_2015_10_29_.xlsx', '/Volumes/OutSSD/DATA/FOOD/FAO-INFOODS/uFiSh1.0_Globalfoodcompositiondatabaseforfishshellfish.xlsx', '/Volumes/OutSSD/DATA/FOOD/FAO-INFOODS/uPulses1.0_Globalfoodcompositiondatabaseforpulses.xlsx', '/Volumes/OutSSD/DATA/FOOD/FAO-INFOODS/PulsesDM1.0_GlobalDatabaseforPulsesonDryMatterBasis.xlsx', '/Volumes/OutSSD/DATA/FOOD/OpenProductData-Licensed/POD-SPECS-2013.11.13_01.xlsx', '/Volumes/OutSSD/DATA/FOOD/FSA/Food+and+You+Waves+1-5+Data+User+Guide.xlsx', '/Volumes/OutSSD/DATA/FOOD/FSA/McCance_Widdowsons_Composition_of_Foods_Integrated_Dataset_2021..xlsx', '/Volumes/OutSSD/DATA/FOOD/CoFID UK Gov/McCance_Widdowsons_Composition_of_Foods_Integrated_Dataset_2021..xlsx', '/Volumes/OutSSD/DATA/FOOD/CoFID UK Gov/CoFID_oldFoods.xlsx', '/Volumes/OutSSD/DATA/FOOD/CoFID UK Gov/Resumen - McCance_Widdowsons_Composition_of_Foods_Integrated_Dataset_2021..xlsx', '/Volumes/OutSSD/DATA/FOOD/CoFID UK Gov/fruit_and_vegetable_survey_2015_fatty_acids.xlsx', '/Volumes/OutSSD/DATA/FOOD/CoFID UK Gov/fruit_and_vegetable_survey_2015_summary_results.xlsx', '/Volumes/OutSSD/DATA/FOOD/EFSA-EuropeanFoodSafetyAuthority/Food_composition_dataset.xlsx']\n",
      "CSV: 154 ['/Volumes/OutSSD/DATA/FOOD/FAO-INFOODS/CANADA CNF/cnf-fcen-csv-update-miseajour/MEASURE NAME ADD.csv', '/Volumes/OutSSD/DATA/FOOD/FAO-INFOODS/CANADA CNF/cnf-fcen-csv-update-miseajour/CONVERSION FACTOR CHANGE.csv', '/Volumes/OutSSD/DATA/FOOD/FAO-INFOODS/CANADA CNF/cnf-fcen-csv-update-miseajour/REFUSE NAME CHANGE.csv', '/Volumes/OutSSD/DATA/FOOD/FAO-INFOODS/CANADA CNF/cnf-fcen-csv-update-miseajour/FOOD NAME DELETE.csv', '/Volumes/OutSSD/DATA/FOOD/FAO-INFOODS/CANADA CNF/cnf-fcen-csv-update-miseajour/REFUSE AMOUNT ADD.csv', '/Volumes/OutSSD/DATA/FOOD/FAO-INFOODS/CANADA CNF/cnf-fcen-csv-update-miseajour/NUTRIENT NAME CHANGE.csv', '/Volumes/OutSSD/DATA/FOOD/FAO-INFOODS/CANADA CNF/cnf-fcen-csv-update-miseajour/NUTRIENT AMOUNT ADD.csv', '/Volumes/OutSSD/DATA/FOOD/FAO-INFOODS/CANADA CNF/cnf-fcen-csv-update-miseajour/YIELD AMOUNT CHANGE.csv', '/Volumes/OutSSD/DATA/FOOD/FAO-INFOODS/CANADA CNF/cnf-fcen-csv-update-miseajour/REFUSE AMOUNT DELETE.csv', '/Volumes/OutSSD/DATA/FOOD/FAO-INFOODS/CANADA CNF/cnf-fcen-csv-update-miseajour/FOOD SOURCE CHANGE.csv', '/Volumes/OutSSD/DATA/FOOD/FAO-INFOODS/CANADA CNF/cnf-fcen-csv-update-miseajour/NUTRIENT AMOUNT CHANGE.csv', '/Volumes/OutSSD/DATA/FOOD/FAO-INFOODS/CANADA CNF/cnf-fcen-csv-update-miseajour/NUTRIENT NAME ADD.csv', '/Volumes/OutSSD/DATA/FOOD/FAO-INFOODS/CANADA CNF/cnf-fcen-csv-update-miseajour/NUTRIENT AMOUNT DELETE.csv', '/Volumes/OutSSD/DATA/FOOD/FAO-INFOODS/CANADA CNF/cnf-fcen-csv-update-miseajour/NUTRIENT SOURCE DELETE.csv', '/Volumes/OutSSD/DATA/FOOD/FAO-INFOODS/CANADA CNF/cnf-fcen-csv-update-miseajour/CONVERSION FACTOR ADD.csv', '/Volumes/OutSSD/DATA/FOOD/FAO-INFOODS/CANADA CNF/cnf-fcen-csv-update-miseajour/FOOD NAME ADD.csv', '/Volumes/OutSSD/DATA/FOOD/FAO-INFOODS/CANADA CNF/cnf-fcen-csv-update-miseajour/REFUSE AMOUNT CHANGE.csv', '/Volumes/OutSSD/DATA/FOOD/FAO-INFOODS/CANADA CNF/cnf-fcen-csv-update-miseajour/YIELD NAME ADD.csv', '/Volumes/OutSSD/DATA/FOOD/FAO-INFOODS/CANADA CNF/cnf-fcen-csv-update-miseajour/REFUSE NAME ADD.csv', '/Volumes/OutSSD/DATA/FOOD/FAO-INFOODS/CANADA CNF/cnf-fcen-csv-update-miseajour/YIELD AMOUNT DELETE.csv', '/Volumes/OutSSD/DATA/FOOD/FAO-INFOODS/CANADA CNF/cnf-fcen-csv-update-miseajour/FOOD GROUP ADD.csv', '/Volumes/OutSSD/DATA/FOOD/FAO-INFOODS/CANADA CNF/cnf-fcen-csv-update-miseajour/NUTRIENT NAME DELETE.csv', '/Volumes/OutSSD/DATA/FOOD/FAO-INFOODS/CANADA CNF/cnf-fcen-csv-update-miseajour/MEASURE NAME CHANGE.csv', '/Volumes/OutSSD/DATA/FOOD/FAO-INFOODS/CANADA CNF/cnf-fcen-csv-update-miseajour/YIELD AMOUNT ADD.csv', '/Volumes/OutSSD/DATA/FOOD/FAO-INFOODS/CANADA CNF/cnf-fcen-csv-update-miseajour/NUTRIENT SOURCE ADD.csv', '/Volumes/OutSSD/DATA/FOOD/FAO-INFOODS/CANADA CNF/cnf-fcen-csv-update-miseajour/FOOD NAME CHANGE.csv', '/Volumes/OutSSD/DATA/FOOD/FAO-INFOODS/CANADA CNF/cnf-fcen-csv-update-miseajour/CONVERSION FACTOR DELETE.csv', '/Volumes/OutSSD/DATA/FOOD/FAO-INFOODS/CANADA CNF/cnf-fcen-csv/NUTRIENT SOURCE.csv', '/Volumes/OutSSD/DATA/FOOD/FAO-INFOODS/CANADA CNF/cnf-fcen-csv/YIELD NAME.csv', '/Volumes/OutSSD/DATA/FOOD/FAO-INFOODS/CANADA CNF/cnf-fcen-csv/NUTRIENT AMOUNT.csv', '/Volumes/OutSSD/DATA/FOOD/FAO-INFOODS/CANADA CNF/cnf-fcen-csv/FOOD NAME.csv', '/Volumes/OutSSD/DATA/FOOD/FAO-INFOODS/CANADA CNF/cnf-fcen-csv/FOOD GROUP.csv', '/Volumes/OutSSD/DATA/FOOD/FAO-INFOODS/CANADA CNF/cnf-fcen-csv/NUTRIENT NAME.csv', '/Volumes/OutSSD/DATA/FOOD/FAO-INFOODS/CANADA CNF/cnf-fcen-csv/CONVERSION FACTOR.csv', '/Volumes/OutSSD/DATA/FOOD/FAO-INFOODS/CANADA CNF/cnf-fcen-csv/REFUSE NAME.csv', '/Volumes/OutSSD/DATA/FOOD/FAO-INFOODS/CANADA CNF/cnf-fcen-csv/YIELD AMOUNT.csv', '/Volumes/OutSSD/DATA/FOOD/FAO-INFOODS/CANADA CNF/cnf-fcen-csv/REFUSE AMOUNT.csv', '/Volumes/OutSSD/DATA/FOOD/FAO-INFOODS/CANADA CNF/cnf-fcen-csv/MEASURE NAME.csv', '/Volumes/OutSSD/DATA/FOOD/FAO-INFOODS/CANADA CNF/cnf-fcen-csv/FOOD SOURCE.csv', '/Volumes/OutSSD/DATA/FOOD/FSA/food-standards-agency.csv', '/Volumes/OutSSD/DATA/FOOD/FSA/Food+and+You+Waves+1-5+Data.csv', '/Volumes/OutSSD/DATA/FOOD/Others/Food+and+You+Waves+1-5+Data.csv', '/Volumes/OutSSD/DATA/FOOD/CoFID UK Gov/Resumen - McCance_Widdowsons_Composition_of_Foods_Integrated_Dataset_2021.csv', '/Volumes/OutSSD/DATA/FOOD/EFSA-EuropeanFoodSafetyAuthority/food-composition-EU/Food Composition-2.csv', '/Volumes/OutSSD/DATA/FOOD/EFSA-EuropeanFoodSafetyAuthority/food-composition-EU/Food Composition-3.csv', '/Volumes/OutSSD/DATA/FOOD/EFSA-EuropeanFoodSafetyAuthority/food-composition-EU/Food Composition-Alphatocopherol.csv', '/Volumes/OutSSD/DATA/FOOD/EFSA-EuropeanFoodSafetyAuthority/food-composition-EU/Food Composition-Calcium.csv', '/Volumes/OutSSD/DATA/FOOD/EFSA-EuropeanFoodSafetyAuthority/food-composition-EU/Food Composition-Magnesium.csv', '/Volumes/OutSSD/DATA/FOOD/EFSA-EuropeanFoodSafetyAuthority/food-composition-EU/Food Composition-Copper.csv', '/Volumes/OutSSD/DATA/FOOD/EFSA-EuropeanFoodSafetyAuthority/food-composition-EU/Food Composition-NiacinEquivalent.csv', '/Volumes/OutSSD/DATA/FOOD/EFSA-EuropeanFoodSafetyAuthority/food-composition-EU/Food Composition-Phosphorous.csv', '/Volumes/OutSSD/DATA/FOOD/EFSA-EuropeanFoodSafetyAuthority/food-composition-EU/Food Composition-Potassyum.csv', '/Volumes/OutSSD/DATA/FOOD/EFSA-EuropeanFoodSafetyAuthority/food-composition-EU/Food Composition-Riboflavin.csv', '/Volumes/OutSSD/DATA/FOOD/EFSA-EuropeanFoodSafetyAuthority/food-composition-EU/Food Composition-Thiamin.csv', '/Volumes/OutSSD/DATA/FOOD/EFSA-EuropeanFoodSafetyAuthority/food-composition-EU/Food Composition-TotalIron.csv', '/Volumes/OutSSD/DATA/FOOD/EFSA-EuropeanFoodSafetyAuthority/food-composition-EU/Food Composition-TotalSelenium.csv', '/Volumes/OutSSD/DATA/FOOD/EFSA-EuropeanFoodSafetyAuthority/food-composition-EU/Food Composition-VitB12.csv', '/Volumes/OutSSD/DATA/FOOD/EFSA-EuropeanFoodSafetyAuthority/food-composition-EU/Food Composition-VitB6.csv', '/Volumes/OutSSD/DATA/FOOD/EFSA-EuropeanFoodSafetyAuthority/food-composition-EU/Food Composition-VitE.csv', '/Volumes/OutSSD/DATA/FOOD/EFSA-EuropeanFoodSafetyAuthority/food-composition-EU/Food Composition-VitK.csv', '/Volumes/OutSSD/DATA/FOOD/EFSA-EuropeanFoodSafetyAuthority/food-composition-EU/Food Composition-Zinc.csv', '/Volumes/OutSSD/DATA/FOOD/OpenFoodFacts/enopenfoodfactsorgproducts.csv', '/Volumes/OutSSD/DATA/FOOD/OpenFoodFacts/openfoodfacts_search.csv', '/Volumes/OutSSD/DATA/FOOD/archive_food.com/interactions_train.csv', '/Volumes/OutSSD/DATA/FOOD/archive_food.com/interactions_test.csv', '/Volumes/OutSSD/DATA/FOOD/archive_food.com/interactions_validation.csv', '/Volumes/OutSSD/DATA/FOOD/archive_food.com/PP_recipes.csv', '/Volumes/OutSSD/DATA/FOOD/archive_food.com/RAW_interactions.csv', '/Volumes/OutSSD/DATA/FOOD/archive_food.com/RAW_recipes.csv', '/Volumes/OutSSD/DATA/FOOD/archive_food.com/PP_users.csv', '/Volumes/OutSSD/DATA/FOOD/archive_food.com/food.csv', '/Volumes/OutSSD/DATA/FOOD/USDA/FoodData_Central_branded_food_csv_2020-10-30/branded_food.csv', '/Volumes/OutSSD/DATA/FOOD/USDA/FoodData_Central_branded_food_csv_2020-10-30/food_attribute.csv', '/Volumes/OutSSD/DATA/FOOD/USDA/FoodData_Central_branded_food_csv_2020-10-30/food_update_log_entry.csv', '/Volumes/OutSSD/DATA/FOOD/USDA/FoodData_Central_branded_food_csv_2020-10-30/all_downloaded_table_record_counts.csv', '/Volumes/OutSSD/DATA/FOOD/USDA/FoodData_Central_branded_food_csv_2020-10-30/food.csv', '/Volumes/OutSSD/DATA/FOOD/USDA/FoodData_Central_branded_food_csv_2020-10-30/food_nutrient.csv', '/Volumes/OutSSD/DATA/FOOD/USDA/FoodData_Central_csv_2020-10-30/food_calorie_conversion_factor.csv', '/Volumes/OutSSD/DATA/FOOD/USDA/FoodData_Central_csv_2020-10-30/food_nutrient_derivation.csv', '/Volumes/OutSSD/DATA/FOOD/USDA/FoodData_Central_csv_2020-10-30/sr_legacy_food.csv', '/Volumes/OutSSD/DATA/FOOD/USDA/FoodData_Central_csv_2020-10-30/branded_food.csv', '/Volumes/OutSSD/DATA/FOOD/USDA/FoodData_Central_csv_2020-10-30/food_nutrient_conversion_factor.csv', '/Volumes/OutSSD/DATA/FOOD/USDA/FoodData_Central_csv_2020-10-30/food_attribute_type.csv', '/Volumes/OutSSD/DATA/FOOD/USDA/FoodData_Central_csv_2020-10-30/food_attribute.csv', '/Volumes/OutSSD/DATA/FOOD/USDA/FoodData_Central_csv_2020-10-30/market_acquisition.csv', '/Volumes/OutSSD/DATA/FOOD/USDA/FoodData_Central_csv_2020-10-30/retention_factor.csv', '/Volumes/OutSSD/DATA/FOOD/USDA/FoodData_Central_csv_2020-10-30/foundation_food.csv', '/Volumes/OutSSD/DATA/FOOD/USDA/FoodData_Central_csv_2020-10-30/food_update_log_entry.csv', '/Volumes/OutSSD/DATA/FOOD/USDA/FoodData_Central_csv_2020-10-30/measure_unit.csv', '/Volumes/OutSSD/DATA/FOOD/USDA/FoodData_Central_csv_2020-10-30/sub_sample_result.csv', '/Volumes/OutSSD/DATA/FOOD/USDA/FoodData_Central_csv_2020-10-30/nutrient.csv', '/Volumes/OutSSD/DATA/FOOD/USDA/FoodData_Central_csv_2020-10-30/all_downloaded_table_record_counts.csv', '/Volumes/OutSSD/DATA/FOOD/USDA/FoodData_Central_csv_2020-10-30/food.csv', '/Volumes/OutSSD/DATA/FOOD/USDA/FoodData_Central_csv_2020-10-30/wweia_food_category.csv', '/Volumes/OutSSD/DATA/FOOD/USDA/FoodData_Central_csv_2020-10-30/fndds_ingredient_nutrient_value.csv', '/Volumes/OutSSD/DATA/FOOD/USDA/FoodData_Central_csv_2020-10-30/lab_method_nutrient.csv', '/Volumes/OutSSD/DATA/FOOD/USDA/FoodData_Central_csv_2020-10-30/food_nutrient.csv', '/Volumes/OutSSD/DATA/FOOD/USDA/FoodData_Central_csv_2020-10-30/sample_food.csv', '/Volumes/OutSSD/DATA/FOOD/USDA/FoodData_Central_csv_2020-10-30/input_food.csv', '/Volumes/OutSSD/DATA/FOOD/USDA/FoodData_Central_csv_2020-10-30/lab_method_code.csv', '/Volumes/OutSSD/DATA/FOOD/USDA/FoodData_Central_csv_2020-10-30/acquisition_samples.csv', '/Volumes/OutSSD/DATA/FOOD/USDA/FoodData_Central_csv_2020-10-30/agricultural_acquisition.csv', '/Volumes/OutSSD/DATA/FOOD/USDA/FoodData_Central_csv_2020-10-30/fndds_derivation.csv', '/Volumes/OutSSD/DATA/FOOD/USDA/FoodData_Central_csv_2020-10-30/food_nutrient_source.csv', '/Volumes/OutSSD/DATA/FOOD/USDA/FoodData_Central_csv_2020-10-30/food_protein_conversion_factor.csv', '/Volumes/OutSSD/DATA/FOOD/USDA/FoodData_Central_csv_2020-10-30/sub_sample_food.csv', '/Volumes/OutSSD/DATA/FOOD/USDA/FoodData_Central_csv_2020-10-30/food_portion.csv', '/Volumes/OutSSD/DATA/FOOD/USDA/FoodData_Central_csv_2020-10-30/food_component.csv', '/Volumes/OutSSD/DATA/FOOD/USDA/FoodData_Central_csv_2020-10-30/survey_fndds_food.csv', '/Volumes/OutSSD/DATA/FOOD/USDA/FoodData_Central_csv_2020-10-30/lab_method.csv', '/Volumes/OutSSD/DATA/FOOD/USDA/FoodData_Central_csv_2020-10-30/food_category.csv', '/Volumes/OutSSD/DATA/FOOD/USDA/FoodData_Central_csv_2020-10-30/nutrient_incoming_name.csv', '/Volumes/OutSSD/DATA/FOOD/USDA/FoodData_Central_survey_food_csv_2020-10-30/food_attribute.csv', '/Volumes/OutSSD/DATA/FOOD/USDA/FoodData_Central_survey_food_csv_2020-10-30/food_update_log_entry.csv', '/Volumes/OutSSD/DATA/FOOD/USDA/FoodData_Central_survey_food_csv_2020-10-30/all_downloaded_table_record_counts.csv', '/Volumes/OutSSD/DATA/FOOD/USDA/FoodData_Central_survey_food_csv_2020-10-30/food.csv', '/Volumes/OutSSD/DATA/FOOD/USDA/FoodData_Central_survey_food_csv_2020-10-30/fndds_ingredient_nutrient_value.csv', '/Volumes/OutSSD/DATA/FOOD/USDA/FoodData_Central_survey_food_csv_2020-10-30/food_nutrient.csv', '/Volumes/OutSSD/DATA/FOOD/USDA/FoodData_Central_survey_food_csv_2020-10-30/input_food.csv', '/Volumes/OutSSD/DATA/FOOD/USDA/FoodData_Central_survey_food_csv_2020-10-30/food_portion.csv', '/Volumes/OutSSD/DATA/FOOD/USDA/FoodData_Central_survey_food_csv_2020-10-30/survey_fndds_food.csv', '/Volumes/OutSSD/DATA/FOOD/USDA/FoodData_Central_foundation_food_csv_2020-10-30/food_calorie_conversion_factor.csv', '/Volumes/OutSSD/DATA/FOOD/USDA/FoodData_Central_foundation_food_csv_2020-10-30/food_nutrient_conversion_factor.csv', '/Volumes/OutSSD/DATA/FOOD/USDA/FoodData_Central_foundation_food_csv_2020-10-30/food_attribute.csv', '/Volumes/OutSSD/DATA/FOOD/USDA/FoodData_Central_foundation_food_csv_2020-10-30/market_acquisition.csv', '/Volumes/OutSSD/DATA/FOOD/USDA/FoodData_Central_foundation_food_csv_2020-10-30/foundation_food.csv', '/Volumes/OutSSD/DATA/FOOD/USDA/FoodData_Central_foundation_food_csv_2020-10-30/food_update_log_entry.csv', '/Volumes/OutSSD/DATA/FOOD/USDA/FoodData_Central_foundation_food_csv_2020-10-30/sub_sample_result.csv', '/Volumes/OutSSD/DATA/FOOD/USDA/FoodData_Central_foundation_food_csv_2020-10-30/all_downloaded_table_record_counts.csv', '/Volumes/OutSSD/DATA/FOOD/USDA/FoodData_Central_foundation_food_csv_2020-10-30/food.csv', '/Volumes/OutSSD/DATA/FOOD/USDA/FoodData_Central_foundation_food_csv_2020-10-30/food_nutrient.csv', '/Volumes/OutSSD/DATA/FOOD/USDA/FoodData_Central_foundation_food_csv_2020-10-30/agricultural_acquistion.csv', '/Volumes/OutSSD/DATA/FOOD/USDA/FoodData_Central_foundation_food_csv_2020-10-30/sample_food.csv', '/Volumes/OutSSD/DATA/FOOD/USDA/FoodData_Central_foundation_food_csv_2020-10-30/input_food.csv', '/Volumes/OutSSD/DATA/FOOD/USDA/FoodData_Central_foundation_food_csv_2020-10-30/acquisition_sample.csv', '/Volumes/OutSSD/DATA/FOOD/USDA/FoodData_Central_foundation_food_csv_2020-10-30/food_protein_conversion_factor.csv', '/Volumes/OutSSD/DATA/FOOD/USDA/FoodData_Central_foundation_food_csv_2020-10-30/sub_sample_food.csv', '/Volumes/OutSSD/DATA/FOOD/USDA/FoodData_Central_foundation_food_csv_2020-10-30/food_portion.csv', '/Volumes/OutSSD/DATA/FOOD/USDA/FoodData_Central_foundation_food_csv_2020-10-30/food_component.csv', '/Volumes/OutSSD/DATA/FOOD/USDA/FoodData_Central_Supporting_Data_csv_2020-10-30/food_nutrient_derivation.csv', '/Volumes/OutSSD/DATA/FOOD/USDA/FoodData_Central_Supporting_Data_csv_2020-10-30/food_attribute_type.csv', '/Volumes/OutSSD/DATA/FOOD/USDA/FoodData_Central_Supporting_Data_csv_2020-10-30/retention_factor.csv', '/Volumes/OutSSD/DATA/FOOD/USDA/FoodData_Central_Supporting_Data_csv_2020-10-30/measure_unit.csv', '/Volumes/OutSSD/DATA/FOOD/USDA/FoodData_Central_Supporting_Data_csv_2020-10-30/nutrient.csv', '/Volumes/OutSSD/DATA/FOOD/USDA/FoodData_Central_Supporting_Data_csv_2020-10-30/all_downloaded_table_record_counts.csv', '/Volumes/OutSSD/DATA/FOOD/USDA/FoodData_Central_Supporting_Data_csv_2020-10-30/wweia_food_category.csv', '/Volumes/OutSSD/DATA/FOOD/USDA/FoodData_Central_Supporting_Data_csv_2020-10-30/fndds_ingredient_nutrient_value.csv', '/Volumes/OutSSD/DATA/FOOD/USDA/FoodData_Central_Supporting_Data_csv_2020-10-30/lab_method_nutrient.csv', '/Volumes/OutSSD/DATA/FOOD/USDA/FoodData_Central_Supporting_Data_csv_2020-10-30/lab_method_code.csv', '/Volumes/OutSSD/DATA/FOOD/USDA/FoodData_Central_Supporting_Data_csv_2020-10-30/fndds_derivation.csv', '/Volumes/OutSSD/DATA/FOOD/USDA/FoodData_Central_Supporting_Data_csv_2020-10-30/food_nutrient_source.csv', '/Volumes/OutSSD/DATA/FOOD/USDA/FoodData_Central_Supporting_Data_csv_2020-10-30/lab_method.csv', '/Volumes/OutSSD/DATA/FOOD/USDA/FoodData_Central_Supporting_Data_csv_2020-10-30/food_category.csv', '/Volumes/OutSSD/DATA/FOOD/USDA/FoodData_Central_Supporting_Data_csv_2020-10-30/nutrient_incoming_name.csv']\n"
     ]
    }
   ],
   "source": [
    "# Creation of a function that can be nested with futures folders:\n",
    "def csv_paths(folder, orig_path):\n",
    "    files_path = []\n",
    "    def inside(folder, orig_path):\n",
    "        new_path = os.path.join(orig_path, folder)\n",
    "        for file in os.listdir(new_path):\n",
    "            if not file.startswith('.'):\n",
    "                if os.path.isdir(os.path.join(new_path, file)):\n",
    "                    inside(file, new_path)\n",
    "                else:\n",
    "                    if file.endswith('.csv') or file.endswith('.xlsx') or file.endswith('.sql'):\n",
    "                        files_path.append(os.path.join(new_path, file))\n",
    "        return files_path\n",
    "    files_path.append(inside(folder, orig_path))\n",
    "    return files_path\n",
    "        \n",
    "csv_files, xlsx_files, sql_files = [], [], []\n",
    "for folder in folders:\n",
    "    files = [file for file in csv_paths(folder, data_filepath)[:-1]]\n",
    "    for file in files:\n",
    "        if file[-4:]=='.csv': csv_files.append(file)\n",
    "        if file[-5:]=='.xlsx': xlsx_files.append(file)\n",
    "        if file[-4:]=='.sql': sql_files.append(file)\n",
    "    \n",
    "print('SQL:', len(sql_files), sql_files)\n",
    "print('XLSX:', len(xlsx_files), xlsx_files)\n",
    "print('CSV:', len(csv_files), csv_files)"
   ]
  },
  {
   "cell_type": "code",
   "execution_count": null,
   "id": "0eda6dec",
   "metadata": {},
   "outputs": [],
   "source": []
  }
 ],
 "metadata": {
  "kernelspec": {
   "display_name": "Python 3 (ipykernel)",
   "language": "python",
   "name": "python3"
  },
  "language_info": {
   "codemirror_mode": {
    "name": "ipython",
    "version": 3
   },
   "file_extension": ".py",
   "mimetype": "text/x-python",
   "name": "python",
   "nbconvert_exporter": "python",
   "pygments_lexer": "ipython3",
   "version": "3.9.10"
  }
 },
 "nbformat": 4,
 "nbformat_minor": 5
}
